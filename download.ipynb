{
 "cells": [
  {
   "cell_type": "code",
   "execution_count": 9,
   "metadata": {},
   "outputs": [],
   "source": [
    "import requests as rq\n",
    "import csv\n",
    "import pickle"
   ]
  },
  {
   "cell_type": "code",
   "execution_count": 10,
   "metadata": {},
   "outputs": [],
   "source": [
    "s = rq.Session()"
   ]
  },
  {
   "cell_type": "code",
   "execution_count": 11,
   "metadata": {},
   "outputs": [],
   "source": [
    "def wpFetch(url):\n",
    "    url = \"https://www.stb.tsukuba.ac.jp/~shinkan-web/orgadmin/?rest_route=/wp\" + url\n",
    "    return s.get(url).json()"
   ]
  },
  {
   "cell_type": "code",
   "execution_count": 12,
   "metadata": {},
   "outputs": [],
   "source": [
    "q = s.post(\"https://www.stb.tsukuba.ac.jp/~shinkan-web/orgadmin/wp-login.php\", \n",
    "          data={\"log\": \"github_crawler\", \"pwd\": \"v$ge)M%nbZ^buACHJQfj#FSJ\", \"testcookie\": \"0\"},\n",
    "         headers = {'user-agent': 'FireFox'}\n",
    ")"
   ]
  },
  {
   "cell_type": "code",
   "execution_count": 13,
   "metadata": {},
   "outputs": [],
   "source": [
    "pages = wpFetch(\"/v2/pages&status=draft,publish&per_page=100&page=1\") + wpFetch(\"/v2/pages&status=draft,publish&per_page=100&page=2\") + wpFetch(\"/v2/pages&status=draft,publish&per_page=100&page=3\")"
   ]
  },
  {
   "cell_type": "code",
   "execution_count": 14,
   "metadata": {},
   "outputs": [
    {
     "output_type": "execute_result",
     "data": {
      "text/plain": [
       "266"
      ]
     },
     "metadata": {},
     "execution_count": 14
    }
   ],
   "source": [
    "len(pages)"
   ]
  },
  {
   "cell_type": "code",
   "execution_count": 15,
   "metadata": {},
   "outputs": [],
   "source": [
    "with open(\"pages.pickle\", \"wb\") as f:\n",
    "    pickle.dump(pages, f)"
   ]
  }
 ],
 "metadata": {
  "kernelspec": {
   "display_name": "Python 3",
   "language": "python",
   "name": "python3"
  }
 },
 "nbformat": 4,
 "nbformat_minor": 4
}