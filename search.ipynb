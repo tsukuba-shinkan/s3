{
 "metadata": {
  "orig_nbformat": 2,
  "kernelspec": {
   "name": "python3",
   "display_name": "Python 3",
   "language": "python"
  }
 },
 "nbformat": 4,
 "nbformat_minor": 2,
 "cells": [
  {
   "cell_type": "code",
   "execution_count": 112,
   "metadata": {},
   "outputs": [],
   "source": [
    "import pickle\n",
    "import MeCab"
   ]
  },
  {
   "cell_type": "code",
   "execution_count": 113,
   "metadata": {},
   "outputs": [],
   "source": [
    "def load_file(name):\n",
    "    with open(\"wordtable/\"+name+\".pickle\", \"rb\") as f:\n",
    "        return pickle.load(f)"
   ]
  },
  {
   "cell_type": "code",
   "execution_count": 114,
   "metadata": {},
   "outputs": [],
   "source": [
    "word_table = load_file(\"word_table\")\n",
    "page_title_id_table = load_file(\"page_title_id_table\")\n",
    "page_heading_id_table = load_file(\"page_heading_id_table\")\n",
    "page_desc_id_table = load_file(\"page_desc_id_table\")\n",
    "zenbun_table = load_file(\"zenbun_table\")"
   ]
  },
  {
   "cell_type": "code",
   "execution_count": 115,
   "metadata": {},
   "outputs": [],
   "source": [
    "def get_word_id(word):\n",
    "    global word_table\n",
    "    if word not in word_table[\"data\"]:\n",
    "        return None\n",
    "    return word_table[\"data\"][word]"
   ]
  },
  {
   "cell_type": "code",
   "execution_count": 116,
   "metadata": {},
   "outputs": [],
   "source": [
    "wakati = MeCab.Tagger(\"-Owakati\")\n",
    "remove_words = {\"(\", \")\", \"（\", \"）\", \"[\", \"]\",\n",
    "                    \"「\", \"」\", \"+\", \"-\", \"*\", \"$\",\n",
    "                    \"'\", '\"', \"、\", \".\", \"”\", \"’\",\n",
    "                    \":\", \";\", \"_\", \"/\", \"?\", \"!\",\n",
    "                    \"。\", \",\", \"=\", \"＝\"}\n",
    "def split_word(keyword):\n",
    "    return [get_word_id(r) for r in wakati.parse(keyword).split() if r not in remove_words]"
   ]
  },
  {
   "cell_type": "code",
   "execution_count": 117,
   "metadata": {},
   "outputs": [],
   "source": [
    "def set_score(result, word_id, table, score):\n",
    "    if word_id not in table: \n",
    "        return \n",
    "    pageset = table[word_id]\n",
    "    for page in pageset:\n",
    "        if page not in result:\n",
    "            result[page] = 0\n",
    "        result[page] += score\n",
    "def zenbun_search(result,keyword, score):\n",
    "    global zenbun_table\n",
    "    for page_id, zenbun in zenbun_table.items():\n",
    "        if keyword in zenbun:\n",
    "            if page_id not in result:\n",
    "                result[page_id] = 0\n",
    "            result[page_id] += score"
   ]
  },
  {
   "cell_type": "code",
   "execution_count": 118,
   "metadata": {},
   "outputs": [],
   "source": [
    "def scored_search(keyword):\n",
    "    result = {}\n",
    "    for word_id in split_word(keyword):\n",
    "        if word_id is not None:\n",
    "            set_score(result,word_id, page_title_id_table, 30)\n",
    "            set_score(result,word_id, page_heading_id_table, 10)\n",
    "            set_score(result,word_id, page_desc_id_table, 1)\n",
    "        zenbun_search(result, keyword, 1)\n",
    "    return result"
   ]
  },
  {
   "cell_type": "code",
   "execution_count": 119,
   "metadata": {},
   "outputs": [],
   "source": [
    "page_dict = {}\n",
    "with open(\"pages.pickle\", \"rb\") as f:\n",
    "    for page in pickle.load(f):\n",
    "        page_dict[page[\"id\"]] = page"
   ]
  },
  {
   "cell_type": "code",
   "execution_count": 120,
   "metadata": {
    "tags": []
   },
   "outputs": [],
   "source": [
    "def sort_score(scores):\n",
    "    score_array = []\n",
    "    for page_id, score in scores.items():\n",
    "        score_array.append({\n",
    "            \"page_id\": page_id,\n",
    "            \"score\": score\n",
    "        })\n",
    "    score_array.sort(key=lambda x: x[\"score\"])\n",
    "    return score_array"
   ]
  },
  {
   "cell_type": "code",
   "execution_count": 121,
   "metadata": {},
   "outputs": [],
   "source": [
    "def search(keyword):\n",
    "    if len(keyword) == 0:\n",
    "        return\n",
    "    scores = scored_search(keyword)\n",
    "    scores = [page_dict[s[\"page_id\"]] for s in sort_score(scores)]\n",
    "    return scores\n",
    "    "
   ]
  },
  {
   "cell_type": "code",
   "execution_count": 123,
   "metadata": {},
   "outputs": [
    {
     "output_type": "execute_result",
     "data": {
      "text/plain": [
       "[{'id': 477,\n",
       "  'date': '2021-04-02T00:39:34',\n",
       "  'date_gmt': '2021-04-01T15:39:34',\n",
       "  'guid': {'rendered': 'https://www.stb.tsukuba.ac.jp/~shinkan-web/orgadmin/?page_id=477'},\n",
       "  'modified': '2021-04-02T00:39:34',\n",
       "  'modified_gmt': '2021-04-01T15:39:34',\n",
       "  'slug': '',\n",
       "  'status': 'draft',\n",
       "  'type': 'page',\n",
       "  'link': 'https://www.stb.tsukuba.ac.jp/~shinkan-web/orgadmin/?page_id=477',\n",
       "  'title': {'rendered': 'The Empire of TSUKUBA'},\n",
       "  'content': {'rendered': '<p><strong>ヲタ芸・サイリウムダンスをするサークル。</strong></p>\\n<p>2018年に春日エリアの学生たちによって設立されました。<br />\\n初代メンバーが数人脱退し、現在４年生４人、３年生２人、２年生２人で活動しています。</p>\\n<p>ヲタ芸自体に興味を持って大学からヲタ芸を始めた人やヲタ芸経験者まで幅広く所属しています。</p>\\n<p>練習日は週１～２回を予定しています。主に日曜日は固定。（テスト一週間前とテスト期間は練習なし）</p>\\n<p><a href=\"https://www.youtube.com/channel/UCHxYTEgJwElet2l5bY0MH5A/featured\">雙峰祭や地域のイベントなどでパフォーマンスをしたり、YouTubeに動画を投稿したりします。</a></p>\\n<p>いろんなジャンルのオタクが打ってます！ヲタ芸でプロオタクになろう！（？）</p>\\n<p>P.S. Kpopオタクからアニオタからボカロオタクなど幅広いジャンルのオタクがいます。</p>\\n',\n",
       "   'protected': False},\n",
       "  'excerpt': {'rendered': '<p>ヲタ芸・サイリウムダンスをするサークル。 2018年に春日エリアの学生たちによって設立されました。 初代メンバーが数人脱退し、現在４年生４人、３年生２人、２年生２人で活動しています。 ヲタ芸自体に興味を持って大学からヲタ [&hellip;]</p>\\n',\n",
       "   'protected': False},\n",
       "  'author': 12,\n",
       "  'featured_media': 0,\n",
       "  'parent': 0,\n",
       "  'menu_order': 0,\n",
       "  'comment_status': 'closed',\n",
       "  'ping_status': 'closed',\n",
       "  'template': '',\n",
       "  'meta': [],\n",
       "  'activitytype': [5],\n",
       "  'organizationtype': [7],\n",
       "  'event': {'_edit_lock': ['1617291741:146'],\n",
       "   '_edit_last': ['146'],\n",
       "   '_pp_is_autodraft': ['1'],\n",
       "   'title': ['【４月新歓】一日目', '【４月新歓】二日目', '【】', '', '', '', '', 'オンライン新歓'],\n",
       "   'start': ['2021-04-10 15:30',\n",
       "    '2021-04-11 15:30',\n",
       "    '2021-04-12 19:00',\n",
       "    '2021-04-15 19:00',\n",
       "    '2021-04-17 15:30',\n",
       "    '2021-04-19 19:00',\n",
       "    '2021-04-22 19:00',\n",
       "    '2021-04-25 19:00'],\n",
       "   'end': ['2021-04-10 18:30',\n",
       "    '2021-04-11 18:30',\n",
       "    '2021-04-12 20:00',\n",
       "    '2021-04-15 20:00',\n",
       "    '2021-04-17 18:30',\n",
       "    '2021-04-19 20:00',\n",
       "    '2021-04-22 20:00',\n",
       "    '2021-04-25 20:00'],\n",
       "   'description': ['', '', '', '', '', '', '', ''],\n",
       "   'organizationId': ['253'],\n",
       "   'mainImage': [''],\n",
       "   'otherImages': [''],\n",
       "   'youtubeLinks': ['https://www.youtube.com/channel/UCHxYTEgJwElet2l5bY0MH5A'],\n",
       "   'url': [''],\n",
       "   'twitter': ['Empire_2018_11'],\n",
       "   'instagram': ['']},\n",
       "  '_links': {'self': [{'href': 'https://www.stb.tsukuba.ac.jp/~shinkan-web/orgadmin/wp-json/wp/v2/pages/477'}],\n",
       "   'collection': [{'href': 'https://www.stb.tsukuba.ac.jp/~shinkan-web/orgadmin/wp-json/wp/v2/pages'}],\n",
       "   'about': [{'href': 'https://www.stb.tsukuba.ac.jp/~shinkan-web/orgadmin/wp-json/wp/v2/types/page'}],\n",
       "   'author': [{'embeddable': True,\n",
       "     'href': 'https://www.stb.tsukuba.ac.jp/~shinkan-web/orgadmin/wp-json/wp/v2/users/12'}],\n",
       "   'replies': [{'embeddable': True,\n",
       "     'href': 'https://www.stb.tsukuba.ac.jp/~shinkan-web/orgadmin/wp-json/wp/v2/comments?post=477'}],\n",
       "   'version-history': [{'count': 9,\n",
       "     'href': 'https://www.stb.tsukuba.ac.jp/~shinkan-web/orgadmin/wp-json/wp/v2/pages/477/revisions'}],\n",
       "   'predecessor-version': [{'id': 695,\n",
       "     'href': 'https://www.stb.tsukuba.ac.jp/~shinkan-web/orgadmin/wp-json/wp/v2/pages/477/revisions/695'}],\n",
       "   'wp:attachment': [{'href': 'https://www.stb.tsukuba.ac.jp/~shinkan-web/orgadmin/wp-json/wp/v2/media?parent=477'}],\n",
       "   'wp:term': [{'taxonomy': 'activitytype',\n",
       "     'embeddable': True,\n",
       "     'href': 'https://www.stb.tsukuba.ac.jp/~shinkan-web/orgadmin/wp-json/wp/v2/activitytype?post=477'},\n",
       "    {'taxonomy': 'organizationtype',\n",
       "     'embeddable': True,\n",
       "     'href': 'https://www.stb.tsukuba.ac.jp/~shinkan-web/orgadmin/wp-json/wp/v2/organizationtype?post=477'}],\n",
       "   'curies': [{'name': 'wp',\n",
       "     'href': 'https://api.w.org/{rel}',\n",
       "     'templated': True}]}},\n",
       " {'id': 32,\n",
       "  'date': '2021-03-25T03:37:49',\n",
       "  'date_gmt': '2021-03-24T18:37:49',\n",
       "  'guid': {'rendered': 'https://www.stb.tsukuba.ac.jp/~shinkan-web/orgadmin/?page_id=32'},\n",
       "  'modified': '2021-03-30T01:50:52',\n",
       "  'modified_gmt': '2021-03-29T16:50:52',\n",
       "  'slug': '%e3%83%86%e3%82%b9%e3%83%88%e3%82%af%e3%83%a9%e3%83%96',\n",
       "  'status': 'publish',\n",
       "  'type': 'page',\n",
       "  'link': 'https://www.stb.tsukuba.ac.jp/~shinkan-web/orgadmin/%e3%83%86%e3%82%b9%e3%83%88%e3%82%af%e3%83%a9%e3%83%96/',\n",
       "  'title': {'rendered': 'テストクラブ'},\n",
       "  'content': {'rendered': '<h1>テストクラブの紹介です。</h1>\\n<p>♦♦♦♦♦♦♦♦♦♦♦♦♦♦♦♦♦♦♦♦♦♦♦♦♦♦♦♦♦♦♦♦♦♦♦♦♦♦♦♦♦♦♦♦♦</p>\\n<p>こんにちは❗️❗️❗️❗️❗️❗️</p>\\n<pre><span style=\"color: #ff0000;\">テ</span><span style=\"color: #ff9900;\">ス</span><span style=\"color: #339966;\">ト</span><span style=\"color: #33cccc;\">ク</span><span style=\"color: #800080;\"><span style=\"color: #3366ff;\">ラ</span>ブ</span>です\\r\\n\\r\\n</pre>\\n<p>テストクラブは毎日深夜2:00-5:00に活動しています。</p>\\n<p>テストクラブの活動→<a href=\"https://example.com\">リンク</a></p>\\n<p>&nbsp;</p>\\n<p>&nbsp;</p>\\n',\n",
       "   'protected': False},\n",
       "  'excerpt': {'rendered': '<p>テストクラブの紹介です。 ♦♦♦♦♦♦♦♦♦♦♦♦♦♦♦♦♦♦♦♦♦♦♦♦♦♦♦♦♦♦♦♦♦♦♦♦♦♦♦♦♦♦♦♦♦ こんにちは❗️❗️❗️❗️❗️❗️ テストクラブです テストクラブは毎日深夜2:00-5:00に活動し [&hellip;]</p>\\n',\n",
       "   'protected': False},\n",
       "  'author': 1,\n",
       "  'featured_media': 0,\n",
       "  'parent': 0,\n",
       "  'menu_order': 0,\n",
       "  'comment_status': 'closed',\n",
       "  'ping_status': 'closed',\n",
       "  'template': '',\n",
       "  'meta': [],\n",
       "  'activitytype': [5],\n",
       "  'organizationtype': [8],\n",
       "  'event': {'_edit_lock': ['1617429152:2'],\n",
       "   '_edit_last': ['3'],\n",
       "   '_pp_is_autodraft': ['1'],\n",
       "   'title': ['そろそろ寝たい', 'ITF.鑑賞会'],\n",
       "   'start': ['2021-03-25 06:00', '2021-03-26 02:00'],\n",
       "   'end': ['2021-03-25 07:00', '2021-03-26 04:00'],\n",
       "   'description': ['良い子は起きる時間です。',\n",
       "    '<em>IMAGINE THE FUTURE ~未来を想え</em>\\r\\n\\r\\nのPVをひたすら<strong>ループ再生</strong>して鑑賞します。\\r\\n\\r\\nZoomリンク: zoom.no.link/gahairu\\r\\n\\r\\nアンケート: anke-to.com/q?id=foo'],\n",
       "   'organizationId': ['9999'],\n",
       "   'mainImage': ['33'],\n",
       "   'otherImages': ['34', '33'],\n",
       "   'youtubeLinks': ['https://www.youtube.com/watch?v=Ll89Pi63S7I',\n",
       "    'https://www.youtube.com/watch?v=A5jQX1MoluI'],\n",
       "   'url': ['https://example.com'],\n",
       "   'twitter': ['tsukuba_shinkan'],\n",
       "   'instagram': ['']},\n",
       "  '_links': {'self': [{'href': 'https://www.stb.tsukuba.ac.jp/~shinkan-web/orgadmin/wp-json/wp/v2/pages/32'}],\n",
       "   'collection': [{'href': 'https://www.stb.tsukuba.ac.jp/~shinkan-web/orgadmin/wp-json/wp/v2/pages'}],\n",
       "   'about': [{'href': 'https://www.stb.tsukuba.ac.jp/~shinkan-web/orgadmin/wp-json/wp/v2/types/page'}],\n",
       "   'author': [{'embeddable': True,\n",
       "     'href': 'https://www.stb.tsukuba.ac.jp/~shinkan-web/orgadmin/wp-json/wp/v2/users/1'}],\n",
       "   'replies': [{'embeddable': True,\n",
       "     'href': 'https://www.stb.tsukuba.ac.jp/~shinkan-web/orgadmin/wp-json/wp/v2/comments?post=32'}],\n",
       "   'version-history': [{'count': 14,\n",
       "     'href': 'https://www.stb.tsukuba.ac.jp/~shinkan-web/orgadmin/wp-json/wp/v2/pages/32/revisions'}],\n",
       "   'predecessor-version': [{'id': 117,\n",
       "     'href': 'https://www.stb.tsukuba.ac.jp/~shinkan-web/orgadmin/wp-json/wp/v2/pages/32/revisions/117'}],\n",
       "   'wp:attachment': [{'href': 'https://www.stb.tsukuba.ac.jp/~shinkan-web/orgadmin/wp-json/wp/v2/media?parent=32'}],\n",
       "   'wp:term': [{'taxonomy': 'activitytype',\n",
       "     'embeddable': True,\n",
       "     'href': 'https://www.stb.tsukuba.ac.jp/~shinkan-web/orgadmin/wp-json/wp/v2/activitytype?post=32'},\n",
       "    {'taxonomy': 'organizationtype',\n",
       "     'embeddable': True,\n",
       "     'href': 'https://www.stb.tsukuba.ac.jp/~shinkan-web/orgadmin/wp-json/wp/v2/organizationtype?post=32'}],\n",
       "   'curies': [{'name': 'wp',\n",
       "     'href': 'https://api.w.org/{rel}',\n",
       "     'templated': True}]}}]"
      ]
     },
     "metadata": {},
     "execution_count": 123
    }
   ],
   "source": [
    "search(\"テスト\")"
   ]
  },
  {
   "cell_type": "code",
   "execution_count": null,
   "metadata": {},
   "outputs": [],
   "source": []
  }
 ]
}