{
 "metadata": {
  "orig_nbformat": 2,
  "kernelspec": {
   "name": "python3",
   "display_name": "Python 3",
   "language": "python"
  }
 },
 "nbformat": 4,
 "nbformat_minor": 2,
 "cells": [
  {
   "cell_type": "code",
   "execution_count": 20,
   "metadata": {},
   "outputs": [],
   "source": [
    "import pickle\n",
    "import MeCab\n",
    "import time\n",
    "import random"
   ]
  },
  {
   "cell_type": "code",
   "execution_count": 21,
   "metadata": {},
   "outputs": [],
   "source": [
    "def load_file(name):\n",
    "    with open(\"wordtable/\"+name+\".pickle\", \"rb\") as f:\n",
    "        return pickle.load(f)"
   ]
  },
  {
   "cell_type": "code",
   "execution_count": 22,
   "metadata": {},
   "outputs": [],
   "source": [
    "word_table = load_file(\"word_table\")\n",
    "page_title_id_table = load_file(\"page_title_id_table\")\n",
    "page_heading_id_table = load_file(\"page_heading_id_table\")\n",
    "page_desc_id_table = load_file(\"page_desc_id_table\")\n",
    "zenbun_table = load_file(\"zenbun_table\")\n",
    "page_dict = {}"
   ]
  },
  {
   "cell_type": "code",
   "execution_count": 23,
   "metadata": {
    "tags": []
   },
   "outputs": [],
   "source": [
    "def load_tables():\n",
    "    global page_title_id_table\n",
    "    global page_desc_id_table\n",
    "    global page_heading_id_table\n",
    "    global zenbun_table\n",
    "    global word_table\n",
    "    global page_dict\n",
    "\n",
    "    word_table = load_file(\"word_table\")\n",
    "    page_title_id_table = load_file(\"page_title_id_table\")\n",
    "    page_heading_id_table = load_file(\"page_heading_id_table\")\n",
    "    page_desc_id_table = load_file(\"page_desc_id_table\")\n",
    "    zenbun_table = load_file(\"zenbun_table\")\n",
    "\n",
    "    with open(\"pages.pickle\", \"rb\") as f:\n",
    "        for page in pickle.load(f)[\"data\"]:\n",
    "            page_dict[page[\"id\"]] = page"
   ]
  },
  {
   "cell_type": "code",
   "execution_count": 24,
   "metadata": {},
   "outputs": [],
   "source": [
    "def get_word_id(word):\n",
    "    global word_table\n",
    "    word = word.lower()\n",
    "    if word not in word_table[\"data\"]:\n",
    "        return None\n",
    "    return word_table[\"data\"][word]"
   ]
  },
  {
   "cell_type": "code",
   "execution_count": 25,
   "metadata": {},
   "outputs": [],
   "source": [
    "wakati = MeCab.Tagger(\"-Owakati\")\n",
    "remove_words = {\"(\", \")\", \"（\", \"）\", \"[\", \"]\",\n",
    "                    \"「\", \"」\", \"+\", \"-\", \"*\", \"$\",\n",
    "                    \"'\", '\"', \"、\", \".\", \"”\", \"’\",\n",
    "                    \":\", \";\", \"_\", \"/\", \"?\", \"!\",\n",
    "                    \"。\", \",\", \"=\", \"＝\"}\n",
    "def split_word(keyword):\n",
    "    return [get_word_id(r) for r in wakati.parse(keyword).split() if r not in remove_words]\n",
    "def split_word_str(keyword):\n",
    "    return [r for r in wakati.parse(keyword).split() if r not in remove_words]"
   ]
  },
  {
   "cell_type": "code",
   "execution_count": 26,
   "metadata": {},
   "outputs": [],
   "source": [
    "def set_score(result, word_id, table, score):\n",
    "    if word_id not in table: \n",
    "        return \n",
    "    pageset = table[word_id]\n",
    "    for page in pageset:\n",
    "        if page not in result:\n",
    "            result[page] = 0\n",
    "        result[page] += score"
   ]
  },
  {
   "cell_type": "code",
   "execution_count": 27,
   "metadata": {},
   "outputs": [],
   "source": [
    "def zenbun_search(result, keyword, score):\n",
    "    global zenbun_table\n",
    "    words_str = split_word_str(keyword)\n",
    "    for page_id, zenbun in zenbun_table.items():\n",
    "        for word in words_str:\n",
    "            cnt = zenbun.count(word)\n",
    "            if cnt == 0:\n",
    "                continue\n",
    "\n",
    "            if page_id not in result:\n",
    "                result[page_id] = 0\n",
    "            result[page_id] += score * cnt"
   ]
  },
  {
   "cell_type": "code",
   "execution_count": 28,
   "metadata": {},
   "outputs": [],
   "source": [
    "def scored_search(keyword):\n",
    "    result = {}\n",
    "    for word_id in split_word(keyword):\n",
    "        if word_id is not None:\n",
    "            set_score(result,word_id, page_title_id_table, 30)\n",
    "            set_score(result,word_id, page_heading_id_table, 10)\n",
    "            set_score(result,word_id, page_desc_id_table, 1)\n",
    "    zenbun_search(result, keyword, 1)\n",
    "    return result"
   ]
  },
  {
   "cell_type": "code",
   "execution_count": 30,
   "metadata": {
    "tags": []
   },
   "outputs": [],
   "source": [
    "def sort_score(scores):\n",
    "    score_array = []\n",
    "    for page_id, score in scores.items():\n",
    "        score_array.append({\n",
    "            \"page_id\": page_id,\n",
    "            \"score\": score\n",
    "        })\n",
    "    score_array.sort(key=lambda x: x[\"score\"], reverse=True)\n",
    "    return score_array"
   ]
  },
  {
   "cell_type": "code",
   "execution_count": 31,
   "metadata": {},
   "outputs": [],
   "source": [
    "currenttime = 0\n",
    "def reload():\n",
    "    global currenttime\n",
    "    if time.time() - currenttime < 5:\n",
    "        return\n",
    "    load_tables()\n",
    "    currenttime = time.time()"
   ]
  },
  {
   "cell_type": "code",
   "execution_count": 32,
   "metadata": {},
   "outputs": [],
   "source": [
    "def search(keyword):\n",
    "    if len(keyword) == 0:\n",
    "        return\n",
    "    reload()\n",
    "    scores = scored_search(keyword)\n",
    "    scores = [page_dict[s[\"page_id\"]] for s in sort_score(scores)]\n",
    "    return scores\n",
    "    "
   ]
  },
  {
   "cell_type": "code",
   "execution_count": 33,
   "metadata": {},
   "outputs": [],
   "source": [
    "def random_org(n=15, activity_type=0):\n",
    "    with open(\"pages.pickle\", \"rb\") as f:\n",
    "        org = []\n",
    "        for p in pickle.load(f)[\"data\"]:\n",
    "            if p[\"status\"] != \"publish\":\n",
    "                continue\n",
    "            if activity_type == 0 or str(activity_type) == str(p[\"activitytype\"][0]):\n",
    "                org.append(p)\n",
    "        if n < len(org):\n",
    "            return random.sample(org, k=n)\n",
    "        else:\n",
    "            return org"
   ]
  }
 ]
}