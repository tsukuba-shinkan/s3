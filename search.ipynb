{
 "metadata": {
  "orig_nbformat": 2,
  "kernelspec": {
   "name": "python3",
   "display_name": "Python 3",
   "language": "python"
  }
 },
 "nbformat": 4,
 "nbformat_minor": 2,
 "cells": [
  {
   "cell_type": "code",
   "execution_count": 68,
   "metadata": {},
   "outputs": [],
   "source": [
    "import pickle\n",
    "import MeCab"
   ]
  },
  {
   "cell_type": "code",
   "execution_count": 69,
   "metadata": {},
   "outputs": [],
   "source": [
    "def load_file(name):\n",
    "    with open(\"wordtable/\"+name+\".pickle\", \"rb\") as f:\n",
    "        return pickle.load(f)"
   ]
  },
  {
   "cell_type": "code",
   "execution_count": 70,
   "metadata": {},
   "outputs": [],
   "source": [
    "word_table = load_file(\"word_table\")\n",
    "page_title_id_table = load_file(\"page_title_id_table\")\n",
    "page_heading_id_table = load_file(\"page_heading_id_table\")\n",
    "page_desc_id_table = load_file(\"page_desc_id_table\")\n",
    "zenbun_table = load_file(\"zenbun_table\")"
   ]
  },
  {
   "cell_type": "code",
   "execution_count": 71,
   "metadata": {},
   "outputs": [],
   "source": [
    "def get_word_id(word):\n",
    "    global word_table\n",
    "    if word not in word_table[\"data\"]:\n",
    "        return None\n",
    "    return word_table[\"data\"][word]"
   ]
  },
  {
   "cell_type": "code",
   "execution_count": 72,
   "metadata": {},
   "outputs": [],
   "source": [
    "wakati = MeCab.Tagger(\"-Owakati\")\n",
    "remove_words = {\"(\", \")\", \"（\", \"）\", \"[\", \"]\",\n",
    "                    \"「\", \"」\", \"+\", \"-\", \"*\", \"$\",\n",
    "                    \"'\", '\"', \"、\", \".\", \"”\", \"’\",\n",
    "                    \":\", \";\", \"_\", \"/\", \"?\", \"!\",\n",
    "                    \"。\", \",\", \"=\", \"＝\"}\n",
    "def split_word(keyword):\n",
    "    return [get_word_id(r) for r in wakati.parse(keyword).split() if r not in remove_words]"
   ]
  },
  {
   "cell_type": "code",
   "execution_count": 73,
   "metadata": {},
   "outputs": [],
   "source": [
    "def set_score(result, word_id, table, score):\n",
    "    pageset = table[word_id]\n",
    "    for page in pageset:\n",
    "        if page not in result:\n",
    "            result[page] = 0\n",
    "        result[page] += score\n",
    "def zenbun_search(result,keyword, score):\n",
    "    global zenbun_table\n",
    "    for page_id, zenbun in zenbun_table.items():\n",
    "        if keyword in zenbun:\n",
    "            if page_id not in result:\n",
    "                result[page_id] = 0\n",
    "            result[page_id] += score"
   ]
  },
  {
   "cell_type": "code",
   "execution_count": 76,
   "metadata": {},
   "outputs": [],
   "source": [
    "def search(keyword):\n",
    "    result = {}\n",
    "    for word_id in split_word(keyword):\n",
    "        if word_id is None:\n",
    "            zenbun_search(result, keyword, scor無)\n",
    "            continue\n",
    "        set_score(result,word_id, page_title_id_table, 10)\n",
    "        set_score(result,word_id, page_heading_id_table, 5)\n",
    "        set_score(result,word_id, page_desc_id_table, 1)\n",
    "    return result"
   ]
  },
  {
   "cell_type": "code",
   "execution_count": 80,
   "metadata": {
    "tags": []
   },
   "outputs": [
    {
     "output_type": "execute_result",
     "data": {
      "text/plain": [
       "{163: 10,\n",
       " 420: 10,\n",
       " 292: 10,\n",
       " 455: 10,\n",
       " 296: 10,\n",
       " 617: 11,\n",
       " 302: 10,\n",
       " 145: 11,\n",
       " 273: 11,\n",
       " 372: 10,\n",
       " 438: 10,\n",
       " 310: 10,\n",
       " 634: 10,\n",
       " 348: 10,\n",
       " 382: 10,\n",
       " 255: 10,\n",
       " 132: 6,\n",
       " 642: 1,\n",
       " 386: 1,\n",
       " 134: 1,\n",
       " 646: 1,\n",
       " 392: 1,\n",
       " 651: 1,\n",
       " 140: 1,\n",
       " 653: 1,\n",
       " 142: 1,\n",
       " 271: 1,\n",
       " 402: 1,\n",
       " 406: 1,\n",
       " 279: 1,\n",
       " 669: 1,\n",
       " 414: 1,\n",
       " 287: 1,\n",
       " 157: 1,\n",
       " 294: 1,\n",
       " 552: 1,\n",
       " 557: 1,\n",
       " 173: 1,\n",
       " 175: 1,\n",
       " 184: 1,\n",
       " 442: 1,\n",
       " 198: 1,\n",
       " 603: 1,\n",
       " 477: 1,\n",
       " 479: 1,\n",
       " 483: 1,\n",
       " 491: 1,\n",
       " 364: 1,\n",
       " 621: 1,\n",
       " 370: 1,\n",
       " 632: 1,\n",
       " 638: 1}"
      ]
     },
     "metadata": {},
     "execution_count": 80
    }
   ],
   "source": [
    "search(\"サークル\")"
   ]
  },
  {
   "cell_type": "code",
   "execution_count": null,
   "metadata": {},
   "outputs": [],
   "source": []
  }
 ]
}