{
 "metadata": {
  "orig_nbformat": 2,
  "kernelspec": {
   "name": "python3",
   "display_name": "Python 3",
   "language": "python"
  }
 },
 "nbformat": 4,
 "nbformat_minor": 2,
 "cells": [
  {
   "cell_type": "code",
   "execution_count": 1,
   "metadata": {},
   "outputs": [],
   "source": [
    "import pickle\n",
    "import MeCab"
   ]
  },
  {
   "cell_type": "code",
   "execution_count": 2,
   "metadata": {},
   "outputs": [],
   "source": [
    "def load_file(name):\n",
    "    with open(\"wordtable_event/\"+name+\".pickle\", \"rb\") as f:\n",
    "        return pickle.load(f)"
   ]
  },
  {
   "cell_type": "code",
   "execution_count": 3,
   "metadata": {},
   "outputs": [],
   "source": [
    "word_table = load_file(\"word_table\")\n",
    "page_title_id_table = load_file(\"page_title_id_table\")\n",
    "page_heading_id_table = load_file(\"page_heading_id_table\")\n",
    "page_desc_id_table = load_file(\"page_desc_id_table\")\n",
    "zenbun_table = load_file(\"zenbun_table\")"
   ]
  },
  {
   "cell_type": "code",
   "execution_count": 4,
   "metadata": {},
   "outputs": [],
   "source": [
    "def get_word_id(word):\n",
    "    global word_table\n",
    "    if word not in word_table[\"data\"]:\n",
    "        return None\n",
    "    return word_table[\"data\"][word]"
   ]
  },
  {
   "cell_type": "code",
   "execution_count": 5,
   "metadata": {},
   "outputs": [],
   "source": [
    "wakati = MeCab.Tagger(\"-Owakati\")\n",
    "remove_words = {\"(\", \")\", \"（\", \"）\", \"[\", \"]\",\n",
    "                    \"「\", \"」\", \"+\", \"-\", \"*\", \"$\",\n",
    "                    \"'\", '\"', \"、\", \".\", \"”\", \"’\",\n",
    "                    \":\", \";\", \"_\", \"/\", \"?\", \"!\",\n",
    "                    \"。\", \",\", \"=\", \"＝\"}\n",
    "def split_word(keyword):\n",
    "    return [get_word_id(r) for r in wakati.parse(keyword).split() if r not in remove_words]"
   ]
  },
  {
   "cell_type": "code",
   "execution_count": 6,
   "metadata": {},
   "outputs": [],
   "source": [
    "def set_score(result, word_id, table, score):\n",
    "    if word_id not in table: \n",
    "        return \n",
    "    pageset = table[word_id]\n",
    "    for page in pageset:\n",
    "        if page not in result:\n",
    "            result[page] = 0\n",
    "        result[page] += score\n",
    "def zenbun_search(result,keyword, score):\n",
    "    global zenbun_table\n",
    "    for page_id, zenbun in zenbun_table.items():\n",
    "        if keyword in zenbun:\n",
    "            if page_id not in result:\n",
    "                result[page_id] = 0\n",
    "            result[page_id] += score"
   ]
  },
  {
   "cell_type": "code",
   "execution_count": 7,
   "metadata": {},
   "outputs": [],
   "source": [
    "def scored_search(keyword):\n",
    "    result = {}\n",
    "    for word_id in split_word(keyword):\n",
    "        if word_id is not None:\n",
    "            set_score(result,word_id, page_title_id_table, 30)\n",
    "            set_score(result,word_id, page_heading_id_table, 10)\n",
    "            set_score(result,word_id, page_desc_id_table, 1)\n",
    "        zenbun_search(result, keyword, 1)\n",
    "    return result"
   ]
  },
  {
   "cell_type": "code",
   "execution_count": 8,
   "metadata": {},
   "outputs": [],
   "source": [
    "def get_event_id(page_id, event_index):\n",
    "    return page_id*1000 + event_index"
   ]
  },
  {
   "cell_type": "code",
   "execution_count": 9,
   "metadata": {},
   "outputs": [],
   "source": [
    "event_dict = {}\n",
    "with open(\"pages.pickle\", \"rb\") as f:\n",
    "    for page in pickle.load(f):\n",
    "        page_id = page[\"id\"]\n",
    "        if \"title\" not in page[\"event\"]:\n",
    "            continue\n",
    "        for i in range(len(page[\"event\"][\"title\"])):\n",
    "            event_id = get_event_id(page_id, i)\n",
    "            event_dict[event_id] = {\n",
    "                \"title\": page[\"event\"][\"title\"][i],\n",
    "                \"start\": page[\"event\"][\"start\"][i],\"end\": page[\"event\"][\"end\"][i],\n",
    "                \"page_id\": page_id,\n",
    "                \"page\": page\n",
    "            }"
   ]
  },
  {
   "cell_type": "code",
   "execution_count": 10,
   "metadata": {
    "tags": []
   },
   "outputs": [],
   "source": [
    "def sort_score(scores):\n",
    "    score_array = []\n",
    "    for page_id, score in scores.items():\n",
    "        score_array.append({\n",
    "            \"event_id\": page_id,\n",
    "            \"score\": score\n",
    "        })\n",
    "    score_array.sort(key=lambda x: x[\"score\"])\n",
    "    return score_array"
   ]
  },
  {
   "cell_type": "code",
   "execution_count": 11,
   "metadata": {},
   "outputs": [],
   "source": [
    "def search(keyword):\n",
    "    if len(keyword) == 0:\n",
    "        return\n",
    "    scores = scored_search(keyword)\n",
    "    scores = [event_dict[s[\"event_id\"]] for s in sort_score(scores)]\n",
    "    return scores\n",
    "    "
   ]
  },
  {
   "cell_type": "code",
   "execution_count": 12,
   "metadata": {},
   "outputs": [
    {
     "output_type": "execute_result",
     "data": {
      "text/plain": [
       "[{'title': 'ITF.鑑賞会',\n",
       "  'start': '2021-03-26 02:00',\n",
       "  'end': '2021-03-26 04:00',\n",
       "  'page_id': 32,\n",
       "  'page': {'id': 32,\n",
       "   'date': '2021-03-25T03:37:49',\n",
       "   'date_gmt': '2021-03-24T18:37:49',\n",
       "   'guid': {'rendered': 'https://www.stb.tsukuba.ac.jp/~shinkan-web/orgadmin/?page_id=32'},\n",
       "   'modified': '2021-03-30T01:50:52',\n",
       "   'modified_gmt': '2021-03-29T16:50:52',\n",
       "   'slug': '%e3%83%86%e3%82%b9%e3%83%88%e3%82%af%e3%83%a9%e3%83%96',\n",
       "   'status': 'publish',\n",
       "   'type': 'page',\n",
       "   'link': 'https://www.stb.tsukuba.ac.jp/~shinkan-web/orgadmin/%e3%83%86%e3%82%b9%e3%83%88%e3%82%af%e3%83%a9%e3%83%96/',\n",
       "   'title': {'rendered': 'テストクラブ'},\n",
       "   'content': {'rendered': '<h1>テストクラブの紹介です。</h1>\\n<p>♦♦♦♦♦♦♦♦♦♦♦♦♦♦♦♦♦♦♦♦♦♦♦♦♦♦♦♦♦♦♦♦♦♦♦♦♦♦♦♦♦♦♦♦♦</p>\\n<p>こんにちは❗️❗️❗️❗️❗️❗️</p>\\n<pre><span style=\"color: #ff0000;\">テ</span><span style=\"color: #ff9900;\">ス</span><span style=\"color: #339966;\">ト</span><span style=\"color: #33cccc;\">ク</span><span style=\"color: #800080;\"><span style=\"color: #3366ff;\">ラ</span>ブ</span>です\\r\\n\\r\\n</pre>\\n<p>テストクラブは毎日深夜2:00-5:00に活動しています。</p>\\n<p>テストクラブの活動→<a href=\"https://example.com\">リンク</a></p>\\n<p>&nbsp;</p>\\n<p>&nbsp;</p>\\n',\n",
       "    'protected': False},\n",
       "   'excerpt': {'rendered': '<p>テストクラブの紹介です。 ♦♦♦♦♦♦♦♦♦♦♦♦♦♦♦♦♦♦♦♦♦♦♦♦♦♦♦♦♦♦♦♦♦♦♦♦♦♦♦♦♦♦♦♦♦ こんにちは❗️❗️❗️❗️❗️❗️ テストクラブです テストクラブは毎日深夜2:00-5:00に活動し [&hellip;]</p>\\n',\n",
       "    'protected': False},\n",
       "   'author': 1,\n",
       "   'featured_media': 0,\n",
       "   'parent': 0,\n",
       "   'menu_order': 0,\n",
       "   'comment_status': 'closed',\n",
       "   'ping_status': 'closed',\n",
       "   'template': '',\n",
       "   'meta': [],\n",
       "   'activitytype': [5],\n",
       "   'organizationtype': [8],\n",
       "   'event': {'_edit_lock': ['1617429152:2'],\n",
       "    '_edit_last': ['3'],\n",
       "    '_pp_is_autodraft': ['1'],\n",
       "    'title': ['そろそろ寝たい', 'ITF.鑑賞会'],\n",
       "    'start': ['2021-03-25 06:00', '2021-03-26 02:00'],\n",
       "    'end': ['2021-03-25 07:00', '2021-03-26 04:00'],\n",
       "    'description': ['良い子は起きる時間です。',\n",
       "     '<em>IMAGINE THE FUTURE ~未来を想え</em>\\r\\n\\r\\nのPVをひたすら<strong>ループ再生</strong>して鑑賞します。\\r\\n\\r\\nZoomリンク: zoom.no.link/gahairu\\r\\n\\r\\nアンケート: anke-to.com/q?id=foo'],\n",
       "    'organizationId': ['9999'],\n",
       "    'mainImage': ['33'],\n",
       "    'otherImages': ['34', '33'],\n",
       "    'youtubeLinks': ['https://www.youtube.com/watch?v=Ll89Pi63S7I',\n",
       "     'https://www.youtube.com/watch?v=A5jQX1MoluI'],\n",
       "    'url': ['https://example.com'],\n",
       "    'twitter': ['tsukuba_shinkan'],\n",
       "    'instagram': ['']},\n",
       "   '_links': {'self': [{'href': 'https://www.stb.tsukuba.ac.jp/~shinkan-web/orgadmin/wp-json/wp/v2/pages/32'}],\n",
       "    'collection': [{'href': 'https://www.stb.tsukuba.ac.jp/~shinkan-web/orgadmin/wp-json/wp/v2/pages'}],\n",
       "    'about': [{'href': 'https://www.stb.tsukuba.ac.jp/~shinkan-web/orgadmin/wp-json/wp/v2/types/page'}],\n",
       "    'author': [{'embeddable': True,\n",
       "      'href': 'https://www.stb.tsukuba.ac.jp/~shinkan-web/orgadmin/wp-json/wp/v2/users/1'}],\n",
       "    'replies': [{'embeddable': True,\n",
       "      'href': 'https://www.stb.tsukuba.ac.jp/~shinkan-web/orgadmin/wp-json/wp/v2/comments?post=32'}],\n",
       "    'version-history': [{'count': 14,\n",
       "      'href': 'https://www.stb.tsukuba.ac.jp/~shinkan-web/orgadmin/wp-json/wp/v2/pages/32/revisions'}],\n",
       "    'predecessor-version': [{'id': 117,\n",
       "      'href': 'https://www.stb.tsukuba.ac.jp/~shinkan-web/orgadmin/wp-json/wp/v2/pages/32/revisions/117'}],\n",
       "    'wp:attachment': [{'href': 'https://www.stb.tsukuba.ac.jp/~shinkan-web/orgadmin/wp-json/wp/v2/media?parent=32'}],\n",
       "    'wp:term': [{'taxonomy': 'activitytype',\n",
       "      'embeddable': True,\n",
       "      'href': 'https://www.stb.tsukuba.ac.jp/~shinkan-web/orgadmin/wp-json/wp/v2/activitytype?post=32'},\n",
       "     {'taxonomy': 'organizationtype',\n",
       "      'embeddable': True,\n",
       "      'href': 'https://www.stb.tsukuba.ac.jp/~shinkan-web/orgadmin/wp-json/wp/v2/organizationtype?post=32'}],\n",
       "    'curies': [{'name': 'wp',\n",
       "      'href': 'https://api.w.org/{rel}',\n",
       "      'templated': True}]}}}]"
      ]
     },
     "metadata": {},
     "execution_count": 12
    }
   ],
   "source": [
    "search(\"ITF\")"
   ]
  },
  {
   "cell_type": "code",
   "execution_count": null,
   "metadata": {},
   "outputs": [],
   "source": []
  }
 ]
}