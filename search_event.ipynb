{
 "metadata": {
  "orig_nbformat": 2,
  "kernelspec": {
   "name": "python3",
   "display_name": "Python 3",
   "language": "python"
  }
 },
 "nbformat": 4,
 "nbformat_minor": 2,
 "cells": [
  {
   "cell_type": "code",
   "execution_count": 1,
   "metadata": {},
   "outputs": [],
   "source": [
    "import pickle\n",
    "import MeCab\n",
    "import time"
   ]
  },
  {
   "cell_type": "code",
   "execution_count": 2,
   "metadata": {},
   "outputs": [],
   "source": [
    "def load_file(name):\n",
    "    with open(\"wordtable_event/\"+name+\".pickle\", \"rb\") as f:\n",
    "        return pickle.load(f)"
   ]
  },
  {
   "cell_type": "code",
   "execution_count": 3,
   "metadata": {},
   "outputs": [],
   "source": [
    "word_table = load_file(\"word_table\")\n",
    "page_title_id_table = load_file(\"page_title_id_table\")\n",
    "page_heading_id_table = load_file(\"page_heading_id_table\")\n",
    "page_desc_id_table = load_file(\"page_desc_id_table\")\n",
    "zenbun_table = load_file(\"zenbun_table\")\n",
    "event_dict = {}"
   ]
  },
  {
   "cell_type": "code",
   "execution_count": null,
   "metadata": {},
   "outputs": [],
   "source": [
    "def load_tables():\n",
    "    global page_title_id_table\n",
    "    global page_desc_id_table\n",
    "    global page_heading_id_table\n",
    "    global zenbun_table\n",
    "    global word_table\n",
    "    \n",
    "    word_table = load_file(\"word_table\")\n",
    "    page_title_id_table = load_file(\"page_title_id_table\")\n",
    "    page_heading_id_table = load_file(\"page_heading_id_table\")\n",
    "    page_desc_id_table = load_file(\"page_desc_id_table\")\n",
    "    zenbun_table = load_file(\"zenbun_table\")\n",
    "\n",
    "    global event_dict\n",
    "    with open(\"pages.pickle\", \"rb\") as f:\n",
    "        for page in pickle.load(f):\n",
    "            page_id = page[\"id\"]\n",
    "            if \"title\" not in page[\"event\"]:\n",
    "                continue\n",
    "            for i in range(len(page[\"event\"][\"title\"])):\n",
    "                event_id = get_event_id(page_id, i)\n",
    "                event_dict[event_id] = {\n",
    "                    \"title\": page[\"event\"][\"title\"][i],\n",
    "                    \"start\": page[\"event\"][\"start\"][i],\"end\": page[\"event\"][\"end\"][i],\n",
    "                    \"page_id\": page_id,\n",
    "                    \"page\": page\n",
    "                }"
   ]
  },
  {
   "cell_type": "code",
   "execution_count": 4,
   "metadata": {},
   "outputs": [],
   "source": [
    "def get_word_id(word):\n",
    "    global word_table\n",
    "    if word not in word_table[\"data\"]:\n",
    "        return None\n",
    "    return word_table[\"data\"][word]"
   ]
  },
  {
   "cell_type": "code",
   "execution_count": 5,
   "metadata": {},
   "outputs": [],
   "source": [
    "wakati = MeCab.Tagger(\"-Owakati\")\n",
    "remove_words = {\"(\", \")\", \"（\", \"）\", \"[\", \"]\",\n",
    "                    \"「\", \"」\", \"+\", \"-\", \"*\", \"$\",\n",
    "                    \"'\", '\"', \"、\", \".\", \"”\", \"’\",\n",
    "                    \":\", \";\", \"_\", \"/\", \"?\", \"!\",\n",
    "                    \"。\", \",\", \"=\", \"＝\"}\n",
    "def split_word(keyword):\n",
    "    return [get_word_id(r) for r in wakati.parse(keyword).split() if r not in remove_words]"
   ]
  },
  {
   "cell_type": "code",
   "execution_count": 6,
   "metadata": {},
   "outputs": [],
   "source": [
    "def set_score(result, word_id, table, score):\n",
    "    if word_id not in table: \n",
    "        return \n",
    "    pageset = table[word_id]\n",
    "    for page in pageset:\n",
    "        if page not in result:\n",
    "            result[page] = 0\n",
    "        result[page] += score\n",
    "def zenbun_search(result,keyword, score):\n",
    "    global zenbun_table\n",
    "    for page_id, zenbun in zenbun_table.items():\n",
    "        if keyword in zenbun:\n",
    "            if page_id not in result:\n",
    "                result[page_id] = 0\n",
    "            result[page_id] += score"
   ]
  },
  {
   "cell_type": "code",
   "execution_count": 7,
   "metadata": {},
   "outputs": [],
   "source": [
    "def scored_search(keyword):\n",
    "    result = {}\n",
    "    for word_id in split_word(keyword):\n",
    "        if word_id is not None:\n",
    "            set_score(result,word_id, page_title_id_table, 30)\n",
    "            set_score(result,word_id, page_heading_id_table, 10)\n",
    "            set_score(result,word_id, page_desc_id_table, 1)\n",
    "        zenbun_search(result, keyword, 1)\n",
    "    return result"
   ]
  },
  {
   "cell_type": "code",
   "execution_count": 8,
   "metadata": {},
   "outputs": [],
   "source": [
    "def get_event_id(page_id, event_index):\n",
    "    return page_id*1919 + event_index"
   ]
  },
  {
   "cell_type": "code",
   "execution_count": 10,
   "metadata": {
    "tags": []
   },
   "outputs": [],
   "source": [
    "def sort_score(scores):\n",
    "    score_array = []\n",
    "    for page_id, score in scores.items():\n",
    "        score_array.append({\n",
    "            \"event_id\": page_id,\n",
    "            \"score\": score\n",
    "        })\n",
    "    score_array.sort(key=lambda x: x[\"score\"], reverse=True)\n",
    "    return score_array"
   ]
  },
  {
   "cell_type": "code",
   "execution_count": null,
   "metadata": {},
   "outputs": [],
   "source": [
    "currenttime = 0\n",
    "def reload():\n",
    "    global currenttime\n",
    "    if time.time() - currenttime < 5:\n",
    "        return\n",
    "    load_tables()\n",
    "    currenttime = time.time()"
   ]
  },
  {
   "cell_type": "code",
   "execution_count": 11,
   "metadata": {},
   "outputs": [],
   "source": [
    "def search(keyword):\n",
    "    if len(keyword) == 0:\n",
    "        return\n",
    "    scores = scored_search(keyword)\n",
    "    scores = [event_dict[s[\"event_id\"]] for s in sort_score(scores)]\n",
    "    return scores\n",
    "    "
   ]
  },
  {
   "cell_type": "code",
   "execution_count": null,
   "metadata": {},
   "outputs": [],
   "source": []
  }
 ]
}