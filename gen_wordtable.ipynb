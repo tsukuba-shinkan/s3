{
 "cells": [
  {
   "cell_type": "code",
   "execution_count": 1,
   "id": "67c8add4",
   "metadata": {},
   "outputs": [],
   "source": [
    "import pickle\n",
    "from bs4 import BeautifulSoup\n",
    "import MeCab\n"
   ]
  },
  {
   "cell_type": "code",
   "execution_count": 2,
   "metadata": {},
   "outputs": [],
   "source": [
    "word_table = {} # word(string) -> word_id(int)\n",
    "word_count = 0\n",
    "page_title_id_table = {} # word_id in title(int) -> set of page_id(set<int>)\n",
    "page_heading_id_table = {} # word_id in heading(int) -> set of page_id(set<int>)\n",
    "page_desc_id_table = {} # word_id in description(int) -> set of page_id(set<int>)\n",
    "zenbun_table = {}"
   ]
  },
  {
   "cell_type": "code",
   "execution_count": 3,
   "metadata": {},
   "outputs": [],
   "source": [
    "def get_word_id(word):\n",
    "    global word_table\n",
    "    global word_count\n",
    "    word = word.lower()\n",
    "    if word in word_table:\n",
    "        return word_table[word]\n",
    "    word_table[word] = word_count\n",
    "    word_count += 1\n",
    "    return word_count - 1"
   ]
  },
  {
   "cell_type": "code",
   "execution_count": 4,
   "metadata": {},
   "outputs": [],
   "source": [
    "wakati = MeCab.Tagger(\"-Owakati\")\n",
    "remove_words = {\"(\", \")\", \"（\", \"）\", \"[\", \"]\",\n",
    "                    \"「\", \"」\", \"+\", \"-\", \"*\", \"$\",\n",
    "                    \"'\", '\"', \"、\", \".\", \"”\", \"’\",\n",
    "                    \":\", \";\", \"_\", \"/\", \"?\", \"!\",\n",
    "                    \"。\", \",\", \"=\", \"＝\"}\n",
    "class Text():\n",
    "    def __init__(self, text):\n",
    "        self.raw = text\n",
    "        self.wakati = [get_word_id(r) for r in wakati.parse(text).split() if r not in remove_words]\n",
    "    def __repr__(self):\n",
    "        return str(self.wakati)\n",
    "    def insert_to_table(self, table, page_id):\n",
    "        for word_id in self.wakati:\n",
    "            if word_id not in table: \n",
    "                table[word_id] = set()\n",
    "            table[word_id].add(page_id)\n",
    "        return self"
   ]
  },
  {
   "cell_type": "code",
   "execution_count": 5,
   "metadata": {},
   "outputs": [],
   "source": [
    "def parse_page(page):\n",
    "    zenbun = \"\"\n",
    "    page_id = page[\"id\"]\n",
    "\n",
    "    title = Text(page[\"title\"][\"rendered\"])\n",
    "    title.insert_to_table(page_title_id_table, page_id)\n",
    "    zenbun += title.raw\n",
    "\n",
    "    descHtml = BeautifulSoup(page[\"content\"][\"rendered\"], 'html.parser')    \n",
    "    descHeadings = [Text(h.get_text()).insert_to_table(page_heading_id_table, page_id) for h in descHtml.select(\"h1,h2,h3,h4,h5,h6\")]\n",
    "    zenbun += \"\".join([h.raw for h in descHeadings])\n",
    "\n",
    "    descText = Text(descHtml.get_text())\n",
    "    descText.insert_to_table(page_desc_id_table, page_id)\n",
    "    zenbun = descText.raw\n",
    "\n",
    "    zenbun_table[page_id] = zenbun.lower()"
   ]
  },
  {
   "cell_type": "code",
   "execution_count": 6,
   "metadata": {},
   "outputs": [],
   "source": [
    "pages = []\n",
    "with open(\"pages.pickle\", \"rb\") as f:\n",
    "    pages = pickle.load(f)[\"data\"]\n",
    "for page in pages:\n",
    "    parse_page(page)"
   ]
  },
  {
   "cell_type": "code",
   "execution_count": 7,
   "metadata": {},
   "outputs": [],
   "source": [
    "def write_json(path, data):\n",
    "    with open(\"wordtable/\" + path + \".pickle\", \"wb\") as f:\n",
    "        pickle.dump(data, f)"
   ]
  },
  {
   "cell_type": "code",
   "execution_count": 8,
   "metadata": {},
   "outputs": [],
   "source": [
    "write_json(\"word_table\", {\"data\":word_table, \"count\": word_count})\n",
    "write_json(\"page_title_id_table\", page_title_id_table)\n",
    "write_json(\"page_heading_id_table\", page_heading_id_table)\n",
    "write_json(\"page_desc_id_table\", page_desc_id_table)\n",
    "write_json(\"zenbun_table\", zenbun_table)"
   ]
  },
  {
   "cell_type": "code",
   "execution_count": null,
   "metadata": {},
   "outputs": [],
   "source": []
  }
 ],
 "metadata": {
  "kernelspec": {
   "display_name": "Python 3",
   "language": "python",
   "name": "python3"
  }
 },
 "nbformat": 4,
 "nbformat_minor": 5
}